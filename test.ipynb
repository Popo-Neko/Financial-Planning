{
 "cells": [
  {
   "cell_type": "code",
   "execution_count": 1,
   "metadata": {},
   "outputs": [
    {
     "name": "stdout",
     "output_type": "stream",
     "text": [
      "等额本息每月还款额: 4053.48 元\n"
     ]
    }
   ],
   "source": [
    "def calculate_emi(loan_amount, annual_interest_rate, down_payment_percentage, loan_term_years):\n",
    "    # 计算首付款\n",
    "    down_payment = loan_amount * down_payment_percentage\n",
    "\n",
    "    # 计算贷款本金\n",
    "    loan_principal = loan_amount - down_payment\n",
    "\n",
    "    # 计算月利率\n",
    "    monthly_interest_rate = (annual_interest_rate / 100) / 12\n",
    "\n",
    "    # 计算还款总期数\n",
    "    total_payments = loan_term_years * 12\n",
    "\n",
    "    # 计算等额本息每月还款额\n",
    "    emi = loan_principal * (monthly_interest_rate * (1 + monthly_interest_rate)**total_payments) / \\\n",
    "          ((1 + monthly_interest_rate)**total_payments - 1)\n",
    "\n",
    "    return emi\n",
    "\n",
    "# 输入参数\n",
    "loan_amount = 1000000  # 总房价\n",
    "annual_interest_rate = 4.5  # 年利率\n",
    "down_payment_percentage = 0.2  # 首付款比例\n",
    "loan_term_years = 30  # 还款年限\n",
    "\n",
    "# 计算等额本息每月还款额\n",
    "monthly_payment = calculate_emi(loan_amount, annual_interest_rate, down_payment_percentage, loan_term_years)\n",
    "\n",
    "# 输出结果\n",
    "print(\"等额本息每月还款额: {:.2f} 元\".format(monthly_payment))"
   ]
  },
  {
   "cell_type": "code",
   "execution_count": null,
   "metadata": {},
   "outputs": [],
   "source": []
  }
 ],
 "metadata": {
  "kernelspec": {
   "display_name": "general",
   "language": "python",
   "name": "python3"
  },
  "language_info": {
   "codemirror_mode": {
    "name": "ipython",
    "version": 3
   },
   "file_extension": ".py",
   "mimetype": "text/x-python",
   "name": "python",
   "nbconvert_exporter": "python",
   "pygments_lexer": "ipython3",
   "version": "3.11.5"
  }
 },
 "nbformat": 4,
 "nbformat_minor": 2
}
